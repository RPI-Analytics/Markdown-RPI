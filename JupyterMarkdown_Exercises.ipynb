{
 "cells": [
  {
   "cell_type": "markdown",
   "metadata": {},
   "source": [
    "## Exercises for Jupyter Workshop\n",
    "\n",
    "Here are some exercises to get you started. This [Markdown Cheatsheet](https://github.com/adam-p/markdown-here/wiki/Markdown-Cheatsheet#images) could be helpful."
   ]
  },
  {
   "cell_type": "markdown",
   "metadata": {},
   "source": [
    "### Bulleted List\n",
    "Start by Creating a Bulleted List like the one below.\n",
    "- Jupyter is great.\n",
    "- When you also know a bit of Markdown\n",
    "- If you get stuck click on the markdown cell to see how it was done. \n",
    "- Press play to make it look pretty. \n",
    "\n",
    "\n"
   ]
  },
  {
   "cell_type": "code",
   "execution_count": 8,
   "metadata": {
    "collapsed": true
   },
   "outputs": [],
   "source": [
    "# EXERCISE 1: Go ahead and change the notes below into a bulleted list.\n",
    "# First change this this cell to a markdown cell by clicking on Cell->Cell Type->Markdown\n",
    "# The dash (-) starts things out.  \n",
    "# If you get stuck click on the markdown cell to see how it was done.\n",
    "#Press play to make it look pretty."
   ]
  },
  {
   "cell_type": "markdown",
   "metadata": {},
   "source": [
    "## Images and Figures\n",
    "Sometimes it can be useful to include images in presentations and notebooks.  Check out this picture of good old RPI from 1880. To create a link you just do something like this:\n",
    "\n",
    "```\n",
    "![Alt Text](link to image)\n",
    "  \n",
    "\n",
    "```\n"
   ]
  },
  {
   "cell_type": "markdown",
   "metadata": {},
   "source": [
    "![](https://upload.wikimedia.org/wikipedia/commons/thumb/4/47/RPI_Engraving_1879.jpg/1920px-RPI_Engraving_1879.jpg)\n",
    "By See source - Sylvester, Nathaniel Bartlett (<span style=\"white-space:nowrap\">1880</span>) History of Rensselaer Co., New York with Illustrations and Biographical Sketches of its Prominent Men and Pioneers, <a href=\"//commons.wikimedia.org/wiki/Philadelphia\" title=\"Philadelphia\">Philadelphia</a>: Everts &amp; Peck, p.&nbsp;175 <a href=\"https://en.wikipedia.org/wiki/Online_Computer_Library_Center\" class=\"extiw\" title=\"en:Online Computer Library Center\">OCLC</a>: <a rel=\"nofollow\" class=\"external text\" href=\"http://www.worldcat.org/oclc/3496287\">3496287</a>.Scan courtesy of <a rel=\"nofollow\" class=\"external text\" href=\"http://www.thetroylibrary.org/\">Troy Public Library</a>., Public Domain, <a href=\"https://commons.wikimedia.org/w/index.php?curid=9578876\">Link</a>"
   ]
  },
  {
   "cell_type": "code",
   "execution_count": null,
   "metadata": {
    "collapsed": true
   },
   "outputs": [],
   "source": [
    "#EXERCISE 2: Go ahead and include a picture of Stephen van Rensselaer\n",
    "#https://en.wikipedia.org/wiki/Rensselaer_Polytechnic_Institute#/media/File:StephenVanRensselaerIIIPortrait.jpg"
   ]
  },
  {
   "cell_type": "markdown",
   "metadata": {},
   "source": [
    "### Links\n",
    "\n",
    "Links are similar in structure as images and can be used throughout your work for referencing sources, i.e., [Wikipedia](https://www.wikipedia.org).\n",
    "\n",
    "```markdown\n",
    "\n",
    "[what the text should display](link)\n",
    "\n",
    "```\n",
    "\n"
   ]
  },
  {
   "cell_type": "code",
   "execution_count": null,
   "metadata": {
    "collapsed": true
   },
   "outputs": [],
   "source": [
    "#EXERCISE 3: Add a attribution to the source at the bottom of the picture of Stephen van Rensselaer\n",
    "#Text should read: From Wikipedia\n",
    "#Link: https://en.wikipedia.org/wiki/Rensselaer_Polytechnic_Institute#/media/File:StephenVanRensselaerIIIPortrait.jpg\n"
   ]
  },
  {
   "cell_type": "markdown",
   "metadata": {},
   "source": [
    "## Combine Image/Video and Links\n",
    "\n",
    "You can also make images and videos hotlinked by nesting the image within a link\n",
    "\n",
    "```markdown\n",
    "[![Alt Text](link to image)](clickable link)\n",
    "  \n",
    "\n",
    "```\n",
    "For example, this is a youtube video:\n",
    "\n",
    "\n",
    "[![IMAGE ALT TEXT HERE](http://img.youtube.com/vi/qnJdIUjHNWM/0.jpg)](http://www.youtube.com/watch?v=qnJdIUjHNWM)\n"
   ]
  },
  {
   "cell_type": "code",
   "execution_count": null,
   "metadata": {
    "collapsed": true
   },
   "outputs": [],
   "source": [
    "#EXERCISE 4: Go ahead and include a picture of Stephen van Rensselaer clickable.\n",
    "#clickable link: https://en.wikipedia.org/wiki/Rensselaer_Polytechnic_Institute#/media/File:StephenVanRensselaerIIIPortrait.jpg\n"
   ]
  },
  {
   "cell_type": "markdown",
   "metadata": {},
   "source": [
    "### Code Snippets\n",
    "Next we are going to include some code snippets. Here we are demonstrating the `for` loop in python.\n",
    "\n",
    "```python\n",
    "\n",
    "list=[\"three\",\"two\", \"one\"] \n",
    "for i in list:\n",
    "    print(\"Countdown at: \", i)\n",
    "\n",
    "\n",
    "```\n",
    "\n",
    "Now double click on this cell and you can see how three \\` are used to designate a code block while one is used to style inline text as code."
   ]
  },
  {
   "cell_type": "code",
   "execution_count": 3,
   "metadata": {
    "collapsed": false
   },
   "outputs": [
    {
     "name": "stdout",
     "output_type": "stream",
     "text": [
      "Countdown at:  three\n",
      "Countdown at:  two\n",
      "Countdown at:  one\n",
      "Blast off\n"
     ]
    }
   ],
   "source": [
    "#EXERCISE: Now go ahead and modify the above code to add a \"Blast off\" output at the end. Execute the actual code to produce this output."
   ]
  },
  {
   "cell_type": "code",
   "execution_count": null,
   "metadata": {
    "collapsed": true
   },
   "outputs": [],
   "source": []
  }
 ],
 "metadata": {
  "kernelspec": {
   "display_name": "Python [Root]",
   "language": "python",
   "name": "Python [Root]"
  },
  "language_info": {
   "codemirror_mode": {
    "name": "ipython",
    "version": 3
   },
   "file_extension": ".py",
   "mimetype": "text/x-python",
   "name": "python",
   "nbconvert_exporter": "python",
   "pygments_lexer": "ipython3",
   "version": "3.5.2"
  }
 },
 "nbformat": 4,
 "nbformat_minor": 2
}
