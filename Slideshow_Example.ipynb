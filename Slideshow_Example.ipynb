{
 "cells": [
  {
   "cell_type": "markdown",
   "metadata": {
    "slideshow": {
     "slide_type": "slide"
    }
   },
   "source": [
    "# What is Markdown?"
   ]
  },
  {
   "cell_type": "markdown",
   "metadata": {
    "slideshow": {
     "slide_type": "fragment"
    }
   },
   "source": [
    "A markup language uses a command syntax inline with the content of a document.  You are probably most familiar with HTML, but there are others."
   ]
  },
  {
   "cell_type": "markdown",
   "metadata": {
    "slideshow": {
     "slide_type": "fragment"
    }
   },
   "source": [
    "These languages can be challenging to use if you are starting out or if you are not used to programming.  HTML, in partcular, looks more like computer code then what you (ultimately) want to see on a webpage.  This is off-putting for content developers."
   ]
  },
  {
   "cell_type": "markdown",
   "metadata": {
    "slideshow": {
     "slide_type": "slide"
    }
   },
   "source": [
    "Attitudes now favor writing the content of documents so that they are human readable, and then permitting software (that other people write) to transform your document into something that looks different (usually nicer or more professional) or displays the content in a different type of software where the software controls the formatting.  LaTeX is a very mature example of a markup language that scientists and engineers use to prepare formal reports and journal articles.\n",
    "\n",
    "For the most part, a LaTeX document can easily be read by a non-LaTeX programmer."
   ]
  },
  {
   "cell_type": "markdown",
   "metadata": {
    "slideshow": {
     "slide_type": "fragment"
    }
   },
   "source": [
    "Recently the idea of more _humane_ markup languages has emerged.  These languages can easily be read in raw form but they can also be translated by other computer programs into other types of documents."
   ]
  },
  {
   "cell_type": "markdown",
   "metadata": {
    "slideshow": {
     "slide_type": "fragment"
    }
   },
   "source": [
    "If you've ever sent a text message and used quotes: `\" \"`, asterisks: `* *`, or underlines: `_ _` around a word, then you've already written in a type of \"markdown\".  Software intended for the web generally will have some form of markdown available."
   ]
  },
  {
   "cell_type": "markdown",
   "metadata": {
    "slideshow": {
     "slide_type": "slide"
    }
   },
   "source": [
    "# Where do I get Markdown?\n",
    "\n",
    "This isn't something you strictly, \"get\".  Rather it is a text file formatting that you adhere to within the context of a software package."
   ]
  },
  {
   "cell_type": "markdown",
   "metadata": {
    "slideshow": {
     "slide_type": "slide"
    }
   },
   "source": [
    "# Who made Markdown, When did Markdown start?\n",
    "\n",
    "In 2004 the original version of markdown was released by John Gruber.  Since then other software projects have extended and changed the behaviors of markdown.  But the original idea remains the same - content that can be read by a human and \"read\" by a computer program. "
   ]
  },
  {
   "cell_type": "markdown",
   "metadata": {
    "slideshow": {
     "slide_type": "slide"
    }
   },
   "source": [
    "# Why would I use Markdown?\n",
    "\n",
    "* Software for displaying content on the web changes rapidly.  \n",
    "* Traditional paper publishing creates books that are very expensive for students.\n",
    "* Web pages written in HTML can be difficult to maintain.\n",
    "\n",
    "We feel that focusing on human readable content is an appropriate activity for faculty.  Sticking to markdown syntax makes it possible for other software packages to interpret your content and create interactive notebooks, slides, homework assignments, course notes, etc.\n",
    "\n",
    "We think it's a good idea so we wanted to share things with you!"
   ]
  },
  {
   "cell_type": "markdown",
   "metadata": {
    "slideshow": {
     "slide_type": "slide"
    }
   },
   "source": [
    "# How do I use Markdown?\n",
    "\n",
    "Great question, we thought you'd never ask!"
   ]
  },
  {
   "cell_type": "markdown",
   "metadata": {
    "slideshow": {
     "slide_type": "slide"
    }
   },
   "source": [
    "# Slide 2.0"
   ]
  },
  {
   "cell_type": "markdown",
   "metadata": {
    "slideshow": {
     "slide_type": "subslide"
    }
   },
   "source": [
    "## Subslide 2.1"
   ]
  },
  {
   "cell_type": "markdown",
   "metadata": {
    "slideshow": {
     "slide_type": "subslide"
    }
   },
   "source": [
    "## Subslide 2.2"
   ]
  },
  {
   "cell_type": "code",
   "execution_count": null,
   "metadata": {
    "collapsed": true
   },
   "outputs": [],
   "source": []
  }
 ],
 "metadata": {
  "anaconda-cloud": {},
  "celltoolbar": "Slideshow",
  "kernelspec": {
   "display_name": "Python [default]",
   "language": "python",
   "name": "python2"
  },
  "language_info": {
   "codemirror_mode": {
    "name": "ipython",
    "version": 2
   },
   "file_extension": ".py",
   "mimetype": "text/x-python",
   "name": "python",
   "nbconvert_exporter": "python",
   "pygments_lexer": "ipython2",
   "version": "2.7.12"
  }
 },
 "nbformat": 4,
 "nbformat_minor": 1
}
