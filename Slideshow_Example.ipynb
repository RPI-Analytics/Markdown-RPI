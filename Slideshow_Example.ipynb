{
 "cells": [
  {
   "cell_type": "code",
   "execution_count": 1,
   "metadata": {
    "collapsed": false,
    "slideshow": {
     "slide_type": "skip"
    }
   },
   "outputs": [
    {
     "name": "stdout",
     "output_type": "stream",
     "text": [
      "[NbConvertApp] Converting notebook Slideshow_Example.ipynb to slides\n",
      "[NbConvertApp] Writing 259275 bytes to Slideshow_Example.slides.html\n",
      "[NbConvertApp] Redirecting reveal.js requests to https://cdnjs.cloudflare.com/ajax/libs/reveal.js/3.1.0\n",
      "Serving your slides at http://127.0.0.1:8000/Slideshow_Example.slides.html\n",
      "Use Control-C to stop this server\n",
      "WARNING:tornado.access:404 GET /custom.css (127.0.0.1) 2.18ms\n",
      "WARNING:tornado.access:404 GET /custom.css (127.0.0.1) 1.35ms\n",
      "WARNING:tornado.access:404 GET /favicon.ico (127.0.0.1) 2.06ms\n",
      "WARNING:tornado.access:404 GET /favicon.ico (127.0.0.1) 1.07ms\n",
      "^C\n",
      "Interrupted\n",
      "\n"
     ]
    }
   ],
   "source": [
    "!jupyter nbconvert --to slides --post serve Slideshow_Example.ipynb"
   ]
  },
  {
   "cell_type": "markdown",
   "metadata": {
    "nbpresent": {
     "id": "0f656117-5ce3-4fc4-b541-1279582a1ed6"
    },
    "slideshow": {
     "slide_type": "slide"
    }
   },
   "source": [
    "# What is Markdown?"
   ]
  },
  {
   "cell_type": "markdown",
   "metadata": {
    "nbpresent": {
     "id": "a739f2bc-113e-48e6-b819-02648dda09be"
    },
    "slideshow": {
     "slide_type": "fragment"
    }
   },
   "source": [
    "A markup language uses a command syntax inline with the content of a document.  You are probably most familiar with HTML, but there are others."
   ]
  },
  {
   "cell_type": "markdown",
   "metadata": {
    "nbpresent": {
     "id": "2a69768f-f00f-4a81-b0a3-ec5a19e2f7f8"
    },
    "slideshow": {
     "slide_type": "fragment"
    }
   },
   "source": [
    "These languages can be challenging to use if you are starting out or if you are not used to programming.  HTML, in partcular, looks more like computer code then what you (ultimately) want to see on a webpage.  This is off-putting for content developers."
   ]
  },
  {
   "cell_type": "markdown",
   "metadata": {
    "nbpresent": {
     "id": "2718ce44-7beb-45d1-a9ca-72d855a0d323"
    },
    "slideshow": {
     "slide_type": "slide"
    }
   },
   "source": [
    "Attitudes now favor writing the content of documents so that they are human readable, and then permitting software (that other people write) to transform your document into something that looks different (usually nicer or more professional) or displays the content in a different type of software where the software controls the formatting.  LaTeX is a very mature example of a markup language that scientists and engineers use to prepare formal reports and journal articles.\n",
    "\n",
    "For the most part, a LaTeX document can easily be read by a non-LaTeX programmer."
   ]
  },
  {
   "cell_type": "markdown",
   "metadata": {
    "nbpresent": {
     "id": "ec805498-da21-49d0-9325-6f33f8e6b088"
    },
    "slideshow": {
     "slide_type": "fragment"
    }
   },
   "source": [
    "Recently the idea of more _humane_ markup languages has emerged.  These languages can easily be read in raw form but they can also be translated by other computer programs into other types of documents."
   ]
  },
  {
   "cell_type": "markdown",
   "metadata": {
    "nbpresent": {
     "id": "283910c6-49b0-4991-86bc-99509d0c6747"
    },
    "slideshow": {
     "slide_type": "fragment"
    }
   },
   "source": [
    "If you've ever sent a text message and used quotes: `\" \"`, asterisks: `* *`, or underlines: `_ _` around a word, then you've already written in a type of \"markdown\".  Software intended for the web generally will have some form of markdown available."
   ]
  },
  {
   "cell_type": "markdown",
   "metadata": {
    "nbpresent": {
     "id": "09ea8dbe-adba-4dea-b923-d1fe1361e5bf"
    },
    "slideshow": {
     "slide_type": "slide"
    }
   },
   "source": [
    "# Where do I get Markdown?\n",
    "\n",
    "This isn't something you strictly, \"get\".  Rather it is a text file formatting that you adhere to within the context of a software package."
   ]
  },
  {
   "cell_type": "markdown",
   "metadata": {
    "nbpresent": {
     "id": "edf21635-c23b-4bb9-808c-7540233909ba"
    },
    "slideshow": {
     "slide_type": "slide"
    }
   },
   "source": [
    "# Who made Markdown, When did Markdown start?\n",
    "\n",
    "In 2004 the original version of markdown was released by John Gruber.  Since then other software projects have extended and changed the behaviors of markdown.  But the original idea remains the same - content that can be read by a human and \"read\" by a computer program. "
   ]
  },
  {
   "cell_type": "markdown",
   "metadata": {
    "nbpresent": {
     "id": "665fa245-0169-4733-a2cf-caae45398bf5"
    },
    "slideshow": {
     "slide_type": "slide"
    }
   },
   "source": [
    "# Why would I use Markdown?\n",
    "\n",
    "* Software for displaying content on the web changes rapidly.  \n",
    "* Traditional paper publishing creates books that are very expensive for students.\n",
    "* Web pages written in HTML can be difficult to maintain.\n",
    "\n",
    "We feel that focusing on human readable content is an appropriate activity for faculty.  Sticking to markdown syntax makes it possible for other software packages to interpret your content and create interactive notebooks, slides, homework assignments, course notes, etc.\n",
    "\n",
    "We think it's a good idea so we wanted to share things with you!"
   ]
  },
  {
   "cell_type": "markdown",
   "metadata": {
    "nbpresent": {
     "id": "ea7ed78e-684c-4213-92ef-b777a6c04951"
    },
    "slideshow": {
     "slide_type": "slide"
    }
   },
   "source": [
    "# How do I use Markdown?\n",
    "\n",
    "Great question, we thought you'd never ask!"
   ]
  },
  {
   "cell_type": "markdown",
   "metadata": {
    "nbpresent": {
     "id": "44e4739e-dc2a-423b-b87e-dbb7dd0a720d"
    },
    "slideshow": {
     "slide_type": "slide"
    }
   },
   "source": [
    "# Text\n",
    "\n",
    "Entering text in markdown is simple.  Just type the words you want to see.  For example, the above text was created by typing the following:"
   ]
  },
  {
   "cell_type": "markdown",
   "metadata": {
    "nbpresent": {
     "id": "74f9b0ab-fc8f-4113-a72e-aa62dc2a8774"
    },
    "slideshow": {
     "slide_type": "fragment"
    }
   },
   "source": [
    "`Entering text in markdown is simple.  Just type the words you want to see.  For example, the above text was created by typing the following:`"
   ]
  },
  {
   "cell_type": "markdown",
   "metadata": {
    "nbpresent": {
     "id": "6db1c09a-e971-49d4-97f5-4a05899217f0"
    },
    "slideshow": {
     "slide_type": "slide"
    }
   },
   "source": [
    "# Emphasis\n",
    "\n",
    "Emphasis can be either **bold** or _italic_.  To make something bold use double asterisks.  To make something italic use underscores.  "
   ]
  },
  {
   "cell_type": "markdown",
   "metadata": {
    "collapsed": true,
    "nbpresent": {
     "id": "b5072bd5-2598-4e08-84d6-480329a0b7ca"
    },
    "slideshow": {
     "slide_type": "fragment"
    }
   },
   "source": [
    "\n",
    "For example:\n",
    "\n",
    "`**Hello World!**`\n",
    "\n",
    "`_Hello World!_`\n",
    "\n",
    "produces:\n",
    "\n",
    "**Hello World!**  \n",
    "\n",
    "_Hello World!_"
   ]
  }
 ],
 "metadata": {
  "anaconda-cloud": {},
  "celltoolbar": "Slideshow",
  "kernelspec": {
   "display_name": "Python [default]",
   "language": "python",
   "name": "python2"
  },
  "language_info": {
   "codemirror_mode": {
    "name": "ipython",
    "version": 2
   },
   "file_extension": ".py",
   "mimetype": "text/x-python",
   "name": "python",
   "nbconvert_exporter": "python",
   "pygments_lexer": "ipython2",
   "version": "2.7.12"
  }
 },
 "nbformat": 4,
 "nbformat_minor": 1
}
